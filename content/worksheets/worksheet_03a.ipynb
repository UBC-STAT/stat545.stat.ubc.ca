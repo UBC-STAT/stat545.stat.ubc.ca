{
 "cells": [
  {
   "cell_type": "markdown",
   "metadata": {},
   "source": [
    "# Worksheet 03A: Data Wrangling II and ggplot2 II\n",
    "*Icíar Fernández Boyano*\n",
    "\n",
    "## Instructions + Grading\n",
    "\n",
    "+ To get full marks for each participation worksheet, you must successfully answer at least 40% of all autograded questions. In this worksheet, 40% are 4 questions.\n",
    "\n",
    "+ Autograded questions are easily identifiable throughout the worksheet, labelled as **QUESTION**. Any other instructions that prompt the student to write code are activities, which are not graded and thus do not contribute to marks - but do contribute to the workflow of the worksheet!\n",
    "\n",
    "+ Run this code chunk to load the packages required for the autograder:"
   ]
  },
  {
   "cell_type": "markdown",
   "metadata": {},
   "source": [
    "If there are any packages which are not yet installed, you can use the code cell below to install them."
   ]
  },
  {
   "cell_type": "code",
   "execution_count": null,
   "metadata": {},
   "outputs": [],
   "source": [
    "# Install packages here\n",
    "# install.packages('palmerpenguins')"
   ]
  },
  {
   "cell_type": "markdown",
   "metadata": {},
   "source": [
    "Use the following code cell to load any additional packages you want to use for this worksheet. You may not need to use this code cell at all."
   ]
  },
  {
   "cell_type": "code",
   "execution_count": null,
   "metadata": {},
   "outputs": [],
   "source": [
    "# Load additional packages here\n",
    "# library(palmerpenguins)"
   ]
  },
  {
   "cell_type": "markdown",
   "metadata": {},
   "source": [
    "Run the code cell below to load the packages."
   ]
  },
  {
   "cell_type": "code",
   "execution_count": null,
   "metadata": {},
   "outputs": [],
   "source": [
    "library(testthat)\n",
    "library(digest)"
   ]
  },
  {
   "cell_type": "markdown",
   "metadata": {},
   "source": [
    "## Attributions\n",
    "\n",
    "The following resources were used as inspiration in the creation of this worksheet:\n",
    "\n",
    "+ [R4DS Data Manipulation Chapter](https://r4ds.had.co.nz/transform.html)\n",
    "+ [Rebecca Barter's post on across()](http://www.rebeccabarter.com/blog/2020-07-09-across/)\n",
    "+ STAT545 materials from previous years \n",
    "+ [Palmer penguins dataset](https://allisonhorst.github.io/palmerpenguins/articles/examples.html)\n",
    "\n",
    "## 0. Interacting with this Worksheet: Running code in jupyter\n",
    "\n",
    "In Episode 01A of the [STAT 545 video series](https://www.youtube.com/channel/UCrB-uourf2vxGeBnGjQrA0w), RStudio was mentioned as being an IDE for R. You're probably viewing this worksheet in another IDE called **jupyter**. We're using jupyter for the STAT 545 worksheets because it works well with an autograder called nbgrader.\n",
    "\n",
    "Try running the R code in the following _cell_: click on the cell, and either click \"Run\" in your toolbar, or press \"Shift + Enter\" or \"Shift + Return\"."
   ]
  },
  {
   "cell_type": "code",
   "execution_count": null,
   "metadata": {},
   "outputs": [],
   "source": [
    "1 + 1"
   ]
  },
  {
   "cell_type": "markdown",
   "metadata": {},
   "source": [
    "The output appears below the cell.\n",
    "\n",
    "Also notice that you can't change the above code. We've programmed the worksheet that way to preserve the worksheet structure -- another plus to jupyter over RStudio here. The only cells you can change are the ones where we prompt you for input.\n",
    "\n",
    "## Class 6: The nuts and bolts of data wrangling \n",
    "\n",
    "This section of the worksheet is to be completed during **Class 6: Data Wrangling II.** By the end of today's worksheet, you will be able to: \n",
    "1. Use group_by(), and scoped variants of summarise() and mutate(), with across()\n",
    "2. Apply your dplyr knowledge to exploratory data analysis of a dataset\n",
    "\n",
    "### 1.0 Get started\n",
    "\n",
    "Load the `gapminder`, `palmerpenguins`, and `tidyverse` packages."
   ]
  },
  {
   "cell_type": "code",
   "execution_count": 7,
   "metadata": {},
   "outputs": [],
   "source": [
    "library(gapminder)\n",
    "library(palmerpenguins)\n",
    "library(tidyverse)"
   ]
  },
  {
   "cell_type": "markdown",
   "metadata": {},
   "source": [
    "### 1.1 Practicing dplyr verbs\n",
    "\n",
    "In Data Wrangling II (Class 7), you have learned to use:\n",
    "\n",
    "+ group_by()\n",
    "+ summarize()\n",
    "+ across() \n",
    "\n",
    "*Questions 1.0 and 1.1 use the `gapminder` dataset. The remaining questions in this section use the `penguins` dataset.*\n",
    "\n",
    "**QUESTION 1.0**\n",
    "\n",
    "Answer the following in a single expression:\n",
    "+ What is the minimum life expectancy for each continent and each year of the `gapminder` dataset?\n",
    "+ Add the corresponding country to the tibble, too\n",
    "+ Arrange by min life expectancy"
   ]
  },
  {
   "cell_type": "code",
   "execution_count": null,
   "metadata": {},
   "outputs": [],
   "source": [
    "# youranswer\n",
    "gapminder %>% \n",
    "  group_by(FILL_THIS_IN) %>% \n",
    "  FILL_THIS_IN(min_life = min(lifeExp),\n",
    "               country = country[lifeExp == FILL_THIS_IN]) %>%\n",
    "  arrange(FILL_THIS_IN)\n",
    "\n",
    "### BEGIN HERE ###\n",
    "gapminder %>% \n",
    "  group_by(continent, year) %>% \n",
    "  mutate(min_life = min(lifeExp),\n",
    "        country = country[lifeExp == min_life]) %>%\n",
    "  arrange(min_life)\n",
    "### END HERE ###"
   ]
  },
  {
   "cell_type": "markdown",
   "metadata": {},
   "source": [
    "**QUESTION 1.1**\n",
    "\n",
    "Calculate the growth in population since the first year on record _for each country_ by **rearranging the following lines**, and **filling in the `FILL_THIS_IN`**. Here's another convenience function for you: `dplyr::first()`."
   ]
  },
  {
   "cell_type": "code",
   "execution_count": null,
   "metadata": {},
   "outputs": [],
   "source": [
    "# youranswer\n",
    "mutate(rel_growth = FILL_THIS_IN) %>% \n",
    "arrange(FILL_THIS_IN) %>% \n",
    "gapminder %>% \n",
    "group_by(country) %>% \n",
    "\n",
    "### BEGIN SOLUTION ###\n",
    "gapminder %>% \n",
    "  group_by(country) %>% \n",
    "  arrange(year) %>% \n",
    "  mutate(rel_growth = pop - first(pop))\n",
    "### END SOLUTION ###"
   ]
  },
  {
   "cell_type": "markdown",
   "metadata": {},
   "source": [
    "**QUESTION 1.2**\n",
    "\n",
    "Let's work with the `penguins` dataset from the `palmerpenguins` package. Which penguin species has the greatest body mass? Order the results in descending order of body mass."
   ]
  },
  {
   "cell_type": "code",
   "execution_count": null,
   "metadata": {},
   "outputs": [],
   "source": [
    "# youranswer\n",
    "penguins %>%\n",
    "  group_by(FILL_THIS_IN) %>%\n",
    "  summarise(body_mass = mean(FILL_THIS_IN, na.rm = TRUE)) %>%\n",
    "  arrange(FILL_THIS_IN(FILL_THIS_IN))\n",
    "\n",
    "### BEGIN SOLUTION ###\n",
    "penguins %>%\n",
    "  group_by(species) %>%\n",
    "  summarise(body_mass = mean(body_mass_g, na.rm = TRUE)) %>%\n",
    "  arrange(desc(body_mass))\n",
    "### END SOLUTION ###"
   ]
  },
  {
   "cell_type": "markdown",
   "metadata": {},
   "source": [
    "**QUESTION 1.3**\n",
    "\n",
    "In a single expression, answer:\n",
    "+ What is the mean value of each numeric variable in the `penguins` dataset in each island?\n",
    "+ How many penguins are there in each island?"
   ]
  },
  {
   "cell_type": "code",
   "execution_count": null,
   "metadata": {},
   "outputs": [],
   "source": [
    "# youranswer\n",
    "penguins %>% \n",
    "  group_by(FILL_THIS_IN) %>% \n",
    "  filter(n() > 1) %>% \n",
    "  summarise(across(where(FILL_THIS_IN), FILL_THIS_IN, na.rm = TRUE), n = n())\n",
    "\n",
    "### BEGIN SOLUTION ### \n",
    "penguins %>% \n",
    "  group_by(island) %>% \n",
    "  filter(n() > 1) %>% \n",
    "  summarise(across(where(is.numeric), mean, na.rm = TRUE), n = n())\n",
    "### END SOLUTION ###"
   ]
  },
  {
   "cell_type": "markdown",
   "metadata": {},
   "source": [
    "**QUESTION 1.4**\n",
    "\n",
    "Identify how many missing values there are in each column of the `penguins` dataset. Hint: use `summarise()`, `everything()` and `across()`."
   ]
  },
  {
   "cell_type": "code",
   "execution_count": null,
   "metadata": {},
   "outputs": [],
   "source": [
    "# youranswer\n",
    "FILL_THIS_IN %>%\n",
    "  FILL_THIS_IN(FILL_THIS_IN(FILL_THIS_IN(),\n",
    "                            ~sum(is.na(.))))\n",
    "\n",
    "### BEGIN SOLUTION ###\n",
    "penguins %>%\n",
    "  summarise(across(everything(), \n",
    "                   ~sum(is.na(.))))\n",
    "### END SOLUTION ###"
   ]
  },
  {
   "cell_type": "markdown",
   "metadata": {},
   "source": [
    "`~` indicates that you have started an anonymous function, the argument of which can be defined with `.x` or `.`. `~sum(is.na(.))` calculates how many NA values there are in each column (represented by `.`) and adds them up."
   ]
  },
  {
   "cell_type": "markdown",
   "metadata": {},
   "source": [
    "**QUESTION 1.5**\n",
    "\n",
    "Replace the missing values of the numeric columns in the `penguins` dataset with the mean value of the relevant column. Hint: `FILL_THIS_IN_SAME` should be the same in all three expressions where it is noted. Another hint, look at question 1.4 above!"
   ]
  },
  {
   "cell_type": "code",
   "execution_count": null,
   "metadata": {},
   "outputs": [],
   "source": [
    "# youranswer\n",
    "penguins %>%\n",
    "  FILL_THIS_IN(across(FILL_THIS_IN(is.numeric), ~if_else(is.na(FILL_THIS_IN_SAME), mean(FILL_THIS_IN_SAME, na.rm = T), as.numeric(FILL_THIS_IN_SAME))))\n",
    "\n",
    "### BEGIN SOLUTION ###\n",
    "penguins %>%\n",
    "  mutate(across(where(is.numeric), ~if_else(is.na(.), mean(., na.rm = T), as.numeric(.))))\n",
    "### END SOLUTION ###"
   ]
  },
  {
   "cell_type": "markdown",
   "metadata": {},
   "source": [
    "### 1.2 Explore a dataset with dplyr and ggplot II\n",
    "\n",
    "*This section of the worksheet is not autograded, but answers will be uploaded after the deadline for submission of this worksheet.* \n",
    "\n",
    "For each of the tasks below, produce: \n",
    "\n",
    "- a tibble, using `dplyr` as your data manipulation tool;\n",
    "- an accompanying plot of data from the tibble, using `ggplot2` as your visualization tool; and\n",
    "- some dialogue about what your tables/figures show (doesn't have to be much).\n",
    "\n",
    "**Tip:** Treat this worksheet as a \"cheat sheet\" for future-you / for working on your mini data analysis project! Don't assume that you'll remember the lessons you learned while working on this worksheet. Write things down:\n",
    "\n",
    "- Add notes on difficulties/oddities you encountered. For example, which figures are easy/hard to make, which data formats make better inputs for plotting functions vs. for human-friendly tables.\n",
    "- Provide attribution whenever you take code or an idea from somewhere else, whether a blog post, a colleague, a vignette, etc. Putting those pointers in your \"cheat sheet\" will be useful for future-you -- and it's just good practice to indicate where you got things from.\n",
    "\n",
    "### Task 1\n",
    "\n",
    "Report the absolute and/or relative abundance of countries with low life expectancy over time by continent: Compute some measure of worldwide life expectancy – you decide – a mean or median or some other quantile or perhaps your current age. Then determine how many countries on each continent have a life expectancy less than this benchmark, for each year.\n",
    "\n",
    "### Task 2\n",
    "\n",
    "Get the maximum and minimum of GDP per capita for all continents.\n"
   ]
  },
  {
   "cell_type": "markdown",
   "metadata": {},
   "source": [
    "## Class 7: Effective visualizations with ggplot2\n",
    "\n",
    "This section of the worksheet is to be completed during Class 7: ggplot II + effective visualizations. By the end of today's worksheets, you will be able to:\n",
    "\n",
    "1. Troubleshoot common coding errors when plotting data with ggplot2, using the `gapminder` package.\n",
    "2. Create an effective visualization of the `penguins` data with ggplot2.\n",
    "\n",
    "### 1.0 Fix the plots!\n",
    "\n",
    "In this section, we'll be looking at some erroneous plots and fixing them. I think you might not have these two packages installed:"
   ]
  },
  {
   "cell_type": "code",
   "execution_count": null,
   "metadata": {},
   "outputs": [],
   "source": [
    "install.packages(\"ggridges\")\n",
    "install.packages(\"scales\")"
   ]
  },
  {
   "cell_type": "markdown",
   "metadata": {},
   "source": [
    "Load all the packages you need to get started."
   ]
  },
  {
   "cell_type": "code",
   "execution_count": null,
   "metadata": {},
   "outputs": [],
   "source": [
    "library(tidyverse)\n",
    "library(gapminder)\n",
    "library(ggridges)\n",
    "library(scales)"
   ]
  },
  {
   "cell_type": "markdown",
   "metadata": {},
   "source": [
    "**QUESTION 1.6**\n",
    "\n",
    "Fix the errors in the following scatterplot. *Hint:* What is `select()` doing? `desc()` should be elsewhere..."
   ]
  },
  {
   "cell_type": "code",
   "execution_count": null,
   "metadata": {},
   "outputs": [],
   "source": [
    "# fix this plot\n",
    "gapminder %>% \n",
    "  filter(country = \"Canada\") %>%\n",
    "  select(desc(year)) %>%\n",
    "  ggplot(aes(year, lifeExp)) +\n",
    "  geom_point() \n",
    "\n",
    "### BEGIN HERE ###\n",
    "gapminder %>% \n",
    "  filter(country == \"Canada\") %>% \n",
    "  ggplot(aes(desc(year), lifeExp)) +\n",
    "  geom_point()\n",
    "### END HERE ###"
   ]
  },
  {
   "cell_type": "markdown",
   "metadata": {},
   "source": [
    "**QUESTION 1.7**\n",
    "\n",
    "Instead of alpha transparency, suppose you're wanting to fix the overplotting issue by plotting small points. Why is this not working? Fix it."
   ]
  },
  {
   "cell_type": "code",
   "execution_count": null,
   "metadata": {},
   "outputs": [],
   "source": [
    "# youranswer\n",
    "ggplot(gapminder) +\n",
    "  geom_point(aes(gdpPercap, lifeExp, size = 0.1)) +\n",
    "  scale_x_log10(labels = scales::dollar_format())\n",
    "\n",
    "### BEGIN HERE ###\n",
    "ggplot(gapminder) +\n",
    "  geom_point(aes(gdpPercap, lifeExp), size = 0.1) +\n",
    "  scale_x_log10(labels = scales::dollar_format())\n",
    "### END HERE ###"
   ]
  },
  {
   "cell_type": "markdown",
   "metadata": {},
   "source": [
    "**QUESTION 1.8**\n",
    "\n",
    "Fix the plot so that the size of the dots is related to the body mass, and so that the dots are colored by species. "
   ]
  },
  {
   "cell_type": "code",
   "execution_count": null,
   "metadata": {},
   "outputs": [],
   "source": [
    "# youranswer\n",
    "ggplot(penguins, aes(x = body_mass_g, y = flipper_length_mm) +\n",
    "        geom_point(shape = 21,\n",
    "                   size = species,\n",
    "                   fill = island))\n",
    "\n",
    "### BEGIN HERE ###\n",
    "ggplot(penguins, aes(x = body_mass_g, y = flipper_length_mm, size = body_mass_g, fill = species)) +\n",
    "        geom_point(shape = 21)\n",
    "### END HERE ###"
   ]
  },
  {
   "cell_type": "markdown",
   "metadata": {},
   "source": [
    "**QUESTION 1.9**\n",
    "\n",
    "- Change the x-axis text to be in \"comma format\" with `scales::comma_format()`.\n",
    "- Separate each continent into sub-panels, in a single row of plots."
   ]
  },
  {
   "cell_type": "code",
   "execution_count": null,
   "metadata": {},
   "outputs": [],
   "source": [
    "# youranswer\n",
    "gapminder %>%\n",
    " ggplot(aes(gdpPercap, lifeExp)) +\n",
    "  geom_point(alpha = 0.2) +\n",
    "  scale_x_log10()\n",
    "\n",
    "### BEGIN HERE ###\n",
    "gapminder %>%\n",
    "  ggplot(aes(gdpPercap, lifeExp)) +\n",
    "  facet_wrap(~ continent, nrow = 1) +\n",
    "  geom_point() +\n",
    "  scale_x_log10(labels = scales::comma_format()) \n",
    "### END HERE ###"
   ]
  },
  {
   "cell_type": "markdown",
   "metadata": {},
   "source": [
    "### 1.1 Investigate the `penguins` dataset with plots\n",
    "\n",
    "**QUESTION 1.10**\n",
    "\n",
    "Plot the `penguins` body mass (on the y axis) vs. flipper length (on the x axis) using a **scatterplot**, with the following specifications:\n",
    "+ Color by species\n",
    "+ Set the size of the points to 3, and the alpha to 0.8\n",
    "+ Set the theme to minimal"
   ]
  },
  {
   "cell_type": "code",
   "execution_count": null,
   "metadata": {},
   "outputs": [],
   "source": [
    "# youranswer\n",
    "mass_flipper <- ggplot(data = FILL_THIS_IN,\n",
    "                       FILL_THIS_IN(x = FILL_THIS_IN,\n",
    "                                    y = FILL_THIS_IN)) +\n",
    "  FILL_THIS_IN(FILL_THIS_IN(color = FILL_THIS_IN),\n",
    "               size = FILL_THIS_IN,\n",
    "               alpha = FILL_THIS_IN) +\n",
    "  FILL_THIS_IN() \n",
    "\n",
    "### BEGIN SOLUTION ###\n",
    "mass_flipper <- ggplot(data = penguins,\n",
    "                       aes(x = flipper_length_mm,\n",
    "                           y = body_mass_g)) +\n",
    "  geom_point(aes(color = species),\n",
    "             size = 3,\n",
    "             alpha = 0.8) +\n",
    "  theme_minimal() \n",
    "### END SOLUTION ###"
   ]
  },
  {
   "cell_type": "markdown",
   "metadata": {},
   "source": [
    "**QUESTION 1.11**\n",
    "\n",
    "Repeat the same graph as above, this time coloring by sex, and separating each species into subpanels."
   ]
  },
  {
   "cell_type": "code",
   "execution_count": null,
   "metadata": {},
   "outputs": [],
   "source": [
    "# youranswer\n",
    "\n",
    "### BEGIN SOLUTION ###\n",
    "mass_flipper <- ggplot(data = penguins,\n",
    "                       aes(x = flipper_length_mm,\n",
    "                           y = body_mass_g)) +\n",
    "  geom_point(aes(color = sex),\n",
    "             size = 3,\n",
    "             alpha = 0.8) +\n",
    "  theme_minimal() +\n",
    "  facet_wrap(~species)\n",
    "### END SOLUTION ###"
   ]
  },
  {
   "cell_type": "markdown",
   "metadata": {},
   "source": [
    "*Not autograded:* What could we add to improve the above graph? This time, try to replicate the graph above, using `labs()` to add:\n",
    "+ A title\n",
    "+ A subtitle\n",
    "+ Change the names of the x and y axes to something more readable (without _)\n",
    "+ A legend for what the color indicates\n",
    "\n",
    "Feeling inspired? You can also try to specify colors with `scale_color_manual()`!"
   ]
  },
  {
   "cell_type": "code",
   "execution_count": null,
   "metadata": {},
   "outputs": [],
   "source": [
    "# your code here"
   ]
  }
 ],
 "metadata": {
  "kernelspec": {
   "display_name": "R",
   "language": "R",
   "name": "ir"
  },
  "language_info": {
   "codemirror_mode": "r",
   "file_extension": ".r",
   "mimetype": "text/x-r-source",
   "name": "R",
   "pygments_lexer": "r",
   "version": "4.0.2"
  }
 },
 "nbformat": 4,
 "nbformat_minor": 4
}
