{
 "cells": [
  {
   "cell_type": "markdown",
   "metadata": {
    "deletable": false,
    "editable": false,
    "lines_to_next_cell": 0,
    "nbgrader": {
     "cell_type": "markdown",
     "checksum": "0457bfcd7bc8c1869f609b8a38e2c3b7",
     "grade": false,
     "grade_id": "cell-a52fdbcf333bb582",
     "locked": true,
     "schema_version": 3,
     "solution": false,
     "task": false
    }
   },
   "source": [
    "# Worksheet A-6: File Input/Output\n",
    "\n",
    "## Getting Started\n",
    "\n",
    "Load the requirements for this worksheet:"
   ]
  },
  {
   "cell_type": "code",
   "execution_count": null,
   "metadata": {
    "deletable": false,
    "editable": false,
    "nbgrader": {
     "cell_type": "code",
     "checksum": "900a7578ae02823393bceda3f78ca4f2",
     "grade": false,
     "grade_id": "cell-c48a21406e8bb917",
     "locked": true,
     "schema_version": 3,
     "solution": false,
     "task": false
    }
   },
   "outputs": [],
   "source": [
    "suppressPackageStartupMessages(library(tidyverse))\n",
    "suppressPackageStartupMessages(library(gapminder))\n",
    "suppressPackageStartupMessages(library(here))\n",
    "suppressPackageStartupMessages(library(testthat))\n",
    "suppressPackageStartupMessages(library(reprex))"
   ]
  },
  {
   "cell_type": "markdown",
   "metadata": {
    "deletable": false,
    "editable": false,
    "nbgrader": {
     "cell_type": "markdown",
     "checksum": "b07ea912a0f1341d65c7ba3f17b63ff2",
     "grade": false,
     "grade_id": "cell-4950c9707fd0acb4",
     "locked": true,
     "schema_version": 3,
     "solution": false,
     "task": false
    }
   },
   "source": [
    "The following code chunk has been unlocked, to give you the flexibility to start this document with some of your own code. Remember, it's bad manners to keep a call to `install.packages()` in your source code, so don't forget to delete these lines if you ever need to run them."
   ]
  },
  {
   "cell_type": "code",
   "execution_count": null,
   "metadata": {},
   "outputs": [],
   "source": [
    "# An unlocked code cell."
   ]
  },
  {
   "cell_type": "markdown",
   "metadata": {
    "deletable": false,
    "editable": false,
    "nbgrader": {
     "cell_type": "markdown",
     "checksum": "9154871a91c101b31509f4a9f3a6f74f",
     "grade": false,
     "grade_id": "cell-ff4d90bac29bce18",
     "locked": true,
     "schema_version": 3,
     "solution": false,
     "task": false
    }
   },
   "source": [
    "# Part 1: Writing and reading data from disk\n",
    "\n",
    "For writing R objects to your computer, and reading tabular data into R, we can use the `tidyverse` package `readr`, which is loaded when running `library(tidyverse)`.\n",
    "\n",
    "Let's filter the data only from 2007 and only in the Asia continent and save it to a variable."
   ]
  },
  {
   "cell_type": "code",
   "execution_count": null,
   "metadata": {
    "deletable": false,
    "editable": false,
    "nbgrader": {
     "cell_type": "code",
     "checksum": "b3f973c95dc6f98d4d096167104a68f3",
     "grade": false,
     "grade_id": "cell-9d75f3c8b0c06607",
     "locked": true,
     "schema_version": 3,
     "solution": false,
     "task": false
    }
   },
   "outputs": [],
   "source": [
    "gap_asia_2007 <- gapminder %>% \n",
    "  filter(year == 2007, continent == \"Asia\")\n",
    "head(gap_asia_2007)"
   ]
  },
  {
   "cell_type": "markdown",
   "metadata": {
    "deletable": false,
    "editable": false,
    "nbgrader": {
     "cell_type": "markdown",
     "checksum": "f6a80ad6378affa30621f6b281c2cfda",
     "grade": false,
     "grade_id": "cell-92d93e5de5944b49",
     "locked": true,
     "schema_version": 3,
     "solution": false,
     "task": false
    }
   },
   "source": [
    "## Question 1.1\n",
    "\n",
    "Write `gap_asia_2007` to a comma-separated value (csv) file named `exported_file.csv` with just one command:\n",
    "\n",
    "```\n",
    "write_csv(FILL_THIS_IN, \"exported_file.csv\")\n",
    "```\n",
    "\n",
    "Note: no need to make any variables for this question. Check out your files after executing this line!"
   ]
  },
  {
   "cell_type": "code",
   "execution_count": null,
   "metadata": {
    "deletable": false,
    "lines_to_next_cell": 0,
    "nbgrader": {
     "cell_type": "code",
     "checksum": "5745abbebd52c72e7f8187ecaa89b317",
     "grade": false,
     "grade_id": "cell-dc036d146cef2025",
     "locked": false,
     "schema_version": 3,
     "solution": true,
     "task": false
    }
   },
   "outputs": [],
   "source": [
    "# your code here\n",
    "fail() # No Answer - remove if you provide an answer"
   ]
  },
  {
   "cell_type": "code",
   "execution_count": null,
   "metadata": {
    "deletable": false,
    "editable": false,
    "nbgrader": {
     "cell_type": "code",
     "checksum": "24f7255f1e2e0f235dfc9a49703febbc",
     "grade": true,
     "grade_id": "cell-f8b2ff75e5097542",
     "locked": true,
     "points": 1,
     "schema_version": 3,
     "solution": false,
     "task": false
    }
   },
   "outputs": [],
   "source": [
    "test_that(\"Question 1.1\", {\n",
    "    expect_true(file.exists('exported_file.csv'))\n",
    "    with(read.table('exported_file.csv', header = TRUE, sep = ',', stringsAsFactors = FALSE), {\n",
    "        ctr_order <- order(enc2utf8(country), method = 'radix')\n",
    "        expect_known_hash(country[ctr_order], '502e6665c327bdbc211f89c785ee853b')\n",
    "        expect_known_hash(as.integer(pop[ctr_order]), '8bb3c4cc0e3a3380ff82cbd9fe83b2cb')\n",
    "    })\n",
    "})"
   ]
  },
  {
   "cell_type": "markdown",
   "metadata": {
    "deletable": false,
    "editable": false,
    "nbgrader": {
     "cell_type": "markdown",
     "checksum": "ef00c802569a3d1b0cd2abe36ef8aeb4",
     "grade": false,
     "grade_id": "cell-95e05c5acbdd7a28",
     "locked": true,
     "schema_version": 3,
     "solution": false,
     "task": false
    }
   },
   "source": [
    "## Question 1.2\n",
    "\n",
    "Let's use the function `read_csv` to read in `exported_file.csv` back into R and store this as the variable `gap_asia_2007_in`.\n",
    "\n",
    "```\n",
    "gap_asia_2007_in <- read_csv(\"FILL_THIS_IN\")\n",
    "\n",
    "```"
   ]
  },
  {
   "cell_type": "code",
   "execution_count": null,
   "metadata": {
    "deletable": false,
    "lines_to_next_cell": 0,
    "nbgrader": {
     "cell_type": "code",
     "checksum": "2ffb88c3aa456a7ca3b91129b29f673e",
     "grade": false,
     "grade_id": "cell-0f65d0f778ec6287",
     "locked": false,
     "schema_version": 3,
     "solution": true,
     "task": false
    }
   },
   "outputs": [],
   "source": [
    "# your code here\n",
    "fail() # No Answer - remove if you provide an answer\n",
    "head(gap_asia_2007_in)"
   ]
  },
  {
   "cell_type": "code",
   "execution_count": null,
   "metadata": {
    "deletable": false,
    "editable": false,
    "nbgrader": {
     "cell_type": "code",
     "checksum": "08796a2ba7ff4bd2405bcccfa3a85c82",
     "grade": true,
     "grade_id": "cell-8448390b94500381",
     "locked": true,
     "points": 1,
     "schema_version": 3,
     "solution": false,
     "task": false
    }
   },
   "outputs": [],
   "source": [
    "test_that(\"Question 1.2\", {\n",
    "    expect_known_hash(colnames(gap_asia_2007_in), 'cc76c54ddad925d63e472c77cd7bd7bf')\n",
    "    expect_known_hash(sapply(gap_asia_2007_in, typeof), '68eb6593a9f582ea9b4aec7862df6be4')\n",
    "    with(gap_asia_2007_in, {\n",
    "        ctr_order <- order(enc2utf8(country), method = 'radix')\n",
    "        expect_known_hash(country[ctr_order], '502e6665c327bdbc211f89c785ee853b')\n",
    "        expect_known_hash(unique(continent), 'a500021b40bafb5d1ad20bed151aab68')\n",
    "        expect_known_hash(round(lifeExp[ctr_order], 2), '9da5c364cf95548c95ea94de3193202b')\n",
    "    })\n",
    "})"
   ]
  },
  {
   "cell_type": "markdown",
   "metadata": {
    "deletable": false,
    "editable": false,
    "nbgrader": {
     "cell_type": "markdown",
     "checksum": "d5f66ae07f19d0d609630d48686cedf1",
     "grade": false,
     "grade_id": "cell-ab66c1758a1353d7",
     "locked": true,
     "schema_version": 3,
     "solution": false,
     "task": false
    }
   },
   "source": [
    "Notice the output of running `read_csv`. This tells us about the types of variables that were read in. It's a good habit to check this every time you run a `read_` function. Sometimes we might want to change how these variable types are specified...\n",
    "\n",
    "## Question 1.3\n",
    "\n",
    "Let's use the function `read_csv` to read in `exported_file.csv` back into R and store this as the variable `gap_asia_2007_in_cspec`.\n",
    "\n",
    "But! This time let's specify that we want the:\n",
    "\n",
    "- columns `country` and `continent` to be `factors`\n",
    "- all other column specification to be automatically determined by `read_csv`\n",
    "\n",
    "```\n",
    "gap_asia_2007_in_cspec <- FILL_THIS_IN(\n",
    "  \"FILL_THIS_IN.csv\", \n",
    "  col_types = cols(\n",
    "    country = col_factor(),\n",
    "    continent = FILL_THIS_IN\n",
    "  ))\n",
    "```"
   ]
  },
  {
   "cell_type": "code",
   "execution_count": null,
   "metadata": {
    "deletable": false,
    "nbgrader": {
     "cell_type": "code",
     "checksum": "652fe5015c27fdffffabe5f45ef06fc2",
     "grade": false,
     "grade_id": "cell-339f9a2961c1b8f9",
     "locked": false,
     "schema_version": 3,
     "solution": true,
     "task": false
    }
   },
   "outputs": [],
   "source": [
    "# your code here\n",
    "fail() # No Answer - remove if you provide an answer\n",
    "head(gap_asia_2007_in_cspec)"
   ]
  },
  {
   "cell_type": "code",
   "execution_count": null,
   "metadata": {
    "deletable": false,
    "editable": false,
    "nbgrader": {
     "cell_type": "code",
     "checksum": "ba5069bc4d9de718d4dd2978c615b00d",
     "grade": true,
     "grade_id": "cell-0667fd5ae48a80f6",
     "locked": true,
     "points": 0,
     "schema_version": 3,
     "solution": false,
     "task": false
    }
   },
   "outputs": [],
   "source": [
    "test_that(\"Question 1.2\", {\n",
    "    expect_known_hash(sapply(gap_asia_2007_in_cspec, typeof), 'd3ed7d3a07fad8143eb7dd22d88d62a3')\n",
    "    with(gap_asia_2007_in_cspec, {\n",
    "        expect_known_hash(sort(enc2utf8(levels(country)), method = 'radix'), '502e6665c327bdbc211f89c785ee853b')\n",
    "        expect_known_hash(as.integer(continent), 'ccdd4647040ccea8f1863ae5e101edf9')\n",
    "    })\n",
    "})"
   ]
  },
  {
   "cell_type": "markdown",
   "metadata": {
    "deletable": false,
    "editable": false,
    "nbgrader": {
     "cell_type": "markdown",
     "checksum": "a2c4dc13f9da02a466d2242c6c07e280",
     "grade": false,
     "grade_id": "cell-d2c47ea01eefe9d8",
     "locked": true,
     "schema_version": 3,
     "solution": false,
     "task": false
    }
   },
   "source": [
    "## Question 1.4\n",
    "\n",
    "First, run the function `here::here()`. Note where this location is on your computer."
   ]
  },
  {
   "cell_type": "code",
   "execution_count": null,
   "metadata": {
    "deletable": false,
    "editable": false,
    "nbgrader": {
     "cell_type": "code",
     "checksum": "9d3d4364fc7e2e304c16f6408bb60de7",
     "grade": false,
     "grade_id": "cell-2f48c1da44393751",
     "locked": true,
     "schema_version": 3,
     "solution": false,
     "task": false
    }
   },
   "outputs": [],
   "source": [
    "here::here()"
   ]
  },
  {
   "cell_type": "markdown",
   "metadata": {
    "deletable": false,
    "editable": false,
    "nbgrader": {
     "cell_type": "markdown",
     "checksum": "6ac72e7ec37b25afb4409d2b0b4a6314",
     "grade": false,
     "grade_id": "cell-ba10c8d73a50992c",
     "locked": true,
     "schema_version": 3,
     "solution": false,
     "task": false
    }
   },
   "source": [
    "Second, in the location returned by `here::here()`, create a folder called **\"worksheet_06a_data\"**. You can do that manually using your file browswer, or by executing the following code:"
   ]
  },
  {
   "cell_type": "code",
   "execution_count": null,
   "metadata": {
    "deletable": false,
    "editable": false,
    "nbgrader": {
     "cell_type": "code",
     "checksum": "835821795ef33e166b21daa2a91f8e17",
     "grade": false,
     "grade_id": "cell-5f1cd1346f451cca",
     "locked": true,
     "schema_version": 3,
     "solution": false,
     "task": false
    }
   },
   "outputs": [],
   "source": [
    "dir.create(here::here(\"worksheet_06a_data\"))"
   ]
  },
  {
   "cell_type": "markdown",
   "metadata": {
    "deletable": false,
    "editable": false,
    "nbgrader": {
     "cell_type": "markdown",
     "checksum": "f603fb8c57d371bc97b4bcc2e29d5864",
     "grade": false,
     "grade_id": "cell-2effbc49d9d7cffe",
     "locked": true,
     "schema_version": 3,
     "solution": false,
     "task": false
    }
   },
   "source": [
    "Your task now is to write the tibble `gap_asia_2007` to a `csv` file in your newly created folder. Name your file `here_exported_file.csv`. \n",
    "\n",
    "```\n",
    "write_csv(gap_asia_2007, FILL_THIS_IN(\"worksheet_06a_data\", FILL_THIS_IN.csv))\n",
    "```"
   ]
  },
  {
   "cell_type": "code",
   "execution_count": null,
   "metadata": {
    "deletable": false,
    "lines_to_next_cell": 0,
    "nbgrader": {
     "cell_type": "code",
     "checksum": "954e9b653515a485202e67c3b33bd2d8",
     "grade": false,
     "grade_id": "cell-537277f01997b17c",
     "locked": false,
     "schema_version": 3,
     "solution": true,
     "task": false
    }
   },
   "outputs": [],
   "source": [
    "# your code here\n",
    "fail() # No Answer - remove if you provide an answer\n",
    "# View files in the worksheet_06a_data folder:\n",
    "dir(here::here(\"worksheet_06a_data\"))"
   ]
  },
  {
   "cell_type": "code",
   "execution_count": null,
   "metadata": {
    "deletable": false,
    "editable": false,
    "nbgrader": {
     "cell_type": "code",
     "checksum": "9d5be284f96b35c6149f7e720d9091d4",
     "grade": true,
     "grade_id": "cell-5aacbda4d51ef339",
     "locked": true,
     "points": 1,
     "schema_version": 3,
     "solution": false,
     "task": false
    }
   },
   "outputs": [],
   "source": [
    "test_that(\"Question 1.4\", {\n",
    "    expect_true(dir.exists(here::here('worksheet_06a_data')))\n",
    "    expect_true(file.exists(here::here('worksheet_06a_data', 'here_exported_file.csv')))\n",
    "    expect_setequal(\n",
    "        unname(tools::md5sum(\"exported_file.csv\")), \n",
    "        unname(tools::md5sum(here::here('worksheet_06a_data', 'here_exported_file.csv')))\n",
    "    )\n",
    "    with(read.table(here::here('worksheet_06a_data', 'here_exported_file.csv'), \n",
    "                    header = TRUE, sep = ',', stringsAsFactors = FALSE), {\n",
    "        ctr_order <- order(enc2utf8(country), method = 'radix')\n",
    "        expect_known_hash(country[ctr_order], '502e6665c327bdbc211f89c785ee853b')\n",
    "        expect_known_hash(round(gdpPercap[ctr_order], 2), '78771a63570dc79433e9587793969a73')\n",
    "    })\n",
    "})"
   ]
  },
  {
   "cell_type": "markdown",
   "metadata": {
    "deletable": false,
    "editable": false,
    "nbgrader": {
     "cell_type": "markdown",
     "checksum": "061cceb59613a67fdea044eafe809f7d",
     "grade": false,
     "grade_id": "cell-a975ab4304a67a30",
     "locked": true,
     "schema_version": 3,
     "solution": false,
     "task": false
    }
   },
   "source": [
    "### Attribution\n",
    "\n",
    "Assembled by Victor Yuan, reviewed by Almas Khan, and assisted by David Kepplinger."
   ]
  },
  {
   "cell_type": "code",
   "execution_count": null,
   "metadata": {},
   "outputs": [],
   "source": []
  }
 ],
 "metadata": {
  "jupytext": {
   "cell_metadata_filter": "-all"
  },
  "kernelspec": {
   "display_name": "R",
   "language": "R",
   "name": "ir"
  },
  "language_info": {
   "codemirror_mode": "r",
   "file_extension": ".r",
   "mimetype": "text/x-r-source",
   "name": "R",
   "pygments_lexer": "r",
   "version": "4.1.2"
  }
 },
 "nbformat": 4,
 "nbformat_minor": 4
}
